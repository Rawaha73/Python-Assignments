{
 "cells": [
  {
   "cell_type": "code",
   "execution_count": 80,
   "metadata": {},
   "outputs": [
    {
     "name": "stdout",
     "output_type": "stream",
     "text": [
      "Name: Rawaha Bin Iqbal\n",
      "Assignment Number 3\n",
      "Course: Python\n"
     ]
    }
   ],
   "source": [
    "print (\"Name: Rawaha Bin Iqbal\")\n",
    "print (\"Assignment Number 3\")\n",
    "print (\"Course: Python\")"
   ]
  },
  {
   "cell_type": "code",
   "execution_count": 30,
   "metadata": {},
   "outputs": [
    {
     "name": "stdout",
     "output_type": "stream",
     "text": [
      "\t\t\t***Calculator***\n",
      "Choose your option \n",
      "1: Addition\n",
      "2: Subtration\n",
      "3: Multiplication\n",
      "4: Division\n",
      "5: Power\n",
      "Enter your option: 5\n",
      "Enter Your x value: 25\n",
      "Enter Your  x Power: 3\n",
      "Your Anser is: 15625\n"
     ]
    }
   ],
   "source": [
    "print('\\t\\t\\t***Calculator***')\n",
    "Choose = int(input('Choose your option \\n1: Addition\\n2: Subtration\\n3: Multiplication\\n4: Division\\n5: Power\\nEnter your option: '))\n",
    "if Choose == 1:\n",
    "    a = int(input(' Only 4 values can be added \\n How many values you want to add: '))\n",
    "    if a==2:\n",
    "        va1 = int(input(\"Enter Your Value 1: \"))\n",
    "        va2 = int(input(\"Enter Your Value 2: \"))\n",
    "        result = va1 + va2\n",
    "        print(\"Your Anser is: \"+str(result))\n",
    "    elif a==3:\n",
    "        va1 = int(input(\"Enter Your Value 1: \"))\n",
    "        va2 = int(input(\"Enter Your Value 2: \"))\n",
    "        va3 = int(input(\"Enter Your Value 3: \"))\n",
    "        result = va1 + va2 + va3\n",
    "        print(\"Your Anser is: \"+str(result))\n",
    "    elif a== 4:\n",
    "        va1 = int(input(\"Enter Your Value 1: \"))\n",
    "        va2 = int(input(\"Enter Your Value 2: \"))\n",
    "        va3 = int(input(\"Enter Your Value 3: \"))\n",
    "        va4 = int(input(\"Enter Your Value 4: \"))\n",
    "        result = va1 + va2 + va3 + va4\n",
    "        print(\"Your Anser is: \"+str(result))\n",
    "    else:\n",
    "        print(\"In appropraite\")\n",
    "elif Choose == 2:\n",
    "    s = int(input(' Only 4 values can be subtract \\n How many values you want to subtract: '))\n",
    "    if s==2:\n",
    "        vs1 = int(input(\"Enter Your Value 1: \"))\n",
    "        vs2 = int(input(\"Enter Your Value 2: \"))\n",
    "        result = vs1 - vs2\n",
    "        print(\"Your Anser is: \"+str(result))\n",
    "    elif s==3:\n",
    "        vs1 = int(input(\"Enter Your Value 1: \"))\n",
    "        vs2 = int(input(\"Enter Your Value 2: \"))\n",
    "        vs3 = int(input(\"Enter Your Value 3: \"))\n",
    "        result = vs1 - vs2 - vs3\n",
    "        print(\"Your Anser is: \"+str(result))\n",
    "    elif s== 4:\n",
    "        vs1 = int(input(\"Enter Your Value 1: \"))\n",
    "        vs2 = int(input(\"Enter Your Value 2: \"))\n",
    "        vs3 = int(input(\"Enter Your Value 3: \"))\n",
    "        vs4 = int(input(\"Enter Your Value 4: \"))\n",
    "        result = vs1 - vs2 - vs3 - vs4\n",
    "        print(\"Your Anser is: \"+str(result))\n",
    "    else:\n",
    "        print(\"In appropraite\")\n",
    "elif Choose == 3:\n",
    "    m = int(input(' Only 4 values can be multiply \\n How many values you want to multiply: '))\n",
    "    if m==2:\n",
    "        vm1 = int(input(\"Enter Your Value 1: \"))\n",
    "        vm2 = int(input(\"Enter Your Value 2: \"))\n",
    "        result = vm1 * vm2\n",
    "        print(\"Your Anser is: \"+str(result))\n",
    "    elif m==3:\n",
    "        vm1 = int(input(\"Enter Your Value 1: \"))\n",
    "        vm2 = int(input(\"Enter Your Value 2: \"))\n",
    "        vm3 = int(input(\"Enter Your Value 3: \"))\n",
    "        result = vm1 * vm2 * vm3\n",
    "        print(\"Your Anser is: \"+str(result))\n",
    "    elif m== 4:\n",
    "        vm1 = int(input(\"Enter Your Value 1: \"))\n",
    "        vm2 = int(input(\"Enter Your Value 2: \"))\n",
    "        vm3 = int(input(\"Enter Your Value 3: \"))\n",
    "        vm4 = int(input(\"Enter Your Value 4: \"))\n",
    "        result = vm1 * vm2 * vm3 * vm4\n",
    "        print(\"Your Anser is: \"+str(result))\n",
    "    else:\n",
    "        print(\"In appropraite\")\n",
    "elif Choose == 4:\n",
    "    d = int(input(' Only 4 values can be Divide \\n How many values you want to divide: '))\n",
    "    if d==2:\n",
    "        vd1 = int(input(\"Enter Your Value 1: \"))\n",
    "        vd2 = int(input(\"Enter Your Value 2: \"))\n",
    "        result = vd1 / vd2\n",
    "        print(\"Your Anser is: \"+str(result))\n",
    "    elif d==3:\n",
    "        vd1 = int(input(\"Enter Your Value 1: \"))\n",
    "        vd2 = int(input(\"Enter Your Value 2: \"))\n",
    "        vd3 = int(input(\"Enter Your Value 3: \"))\n",
    "        result = vd1 / vd2 / vd3\n",
    "        print(\"Your Anser is: \"+str(result))\n",
    "    elif d== 4:\n",
    "        vd1 = int(input(\"Enter Your Value 1: \"))\n",
    "        vd2 = int(input(\"Enter Your Value 2: \"))\n",
    "        vd3 = int(input(\"Enter Your Value 3: \"))\n",
    "        vd4 = int(input(\"Enter Your Value 4: \"))\n",
    "        result = vd1 / vd2 / vd3 / vd4\n",
    "        print(\"Your Anser is: \"+str(result))\n",
    "    else:\n",
    "        print(\"In appropraite\")\n",
    "elif Choose == 5:\n",
    "        vp1 = int(input(\"Enter Your x value: \"))\n",
    "        vp2 = int(input(\"Enter Your  x Power: \"))\n",
    "        result = pow(vp1,vp2)\n",
    "        print(\"Your Anser is: \"+str(result))\n",
    "else:\n",
    "     print('inappropraite value')\n",
    "        "
   ]
  },
  {
   "cell_type": "code",
   "execution_count": 65,
   "metadata": {
    "scrolled": true
   },
   "outputs": [
    {
     "name": "stdout",
     "output_type": "stream",
     "text": [
      "\t\t\t***Checking Numeric Value In Lists***\n",
      "Value Exists and Index is  2\n",
      "Value Exists and Index is  3\n"
     ]
    }
   ],
   "source": [
    "print(\"\\t\\t\\t***Checking Numeric Value In Lists***\")\n",
    "checking = ['rawaha' , 'Ali' , '16', '19']\n",
    "for i in checking:\n",
    "    if i.isdigit():\n",
    "        print(\"Value Exists and Index is \",checking.index(i))\n"
   ]
  },
  {
   "cell_type": "code",
   "execution_count": 81,
   "metadata": {},
   "outputs": [
    {
     "name": "stdout",
     "output_type": "stream",
     "text": [
      "\t\t\t***Dictionary update***\n",
      "Current Dict is:  {'key1': 'geeks', 'key2': 'fill_me'}\n",
      "Updated Dict is:  {'key1': 'geeks', 'key2': 'for', 'key3': 'geeks'}\n"
     ]
    }
   ],
   "source": [
    "print (\"\\t\\t\\t***Dictionary update***\")\n",
    "dict = {'key1':'geeks', 'key2':'fill_me'} \n",
    "print(\"Current Dict is: \", dict)  \n",
    "dict['key2'] = 'for'\n",
    "dict['key3'] = 'geeks'\n",
    "print(\"Updated Dict is: \", dict) "
   ]
  },
  {
   "cell_type": "code",
   "execution_count": 82,
   "metadata": {},
   "outputs": [
    {
     "name": "stdout",
     "output_type": "stream",
     "text": [
      "\t\t\t*** Sum all Dictionary num***\n",
      "293\n"
     ]
    }
   ],
   "source": [
    "print(\"\\t\\t\\t*** Sum all Dictionary num***\")\n",
    "my_dict = {'data1':100,'data2':-54,'data3':247}\n",
    "print(sum(my_dict.values()))"
   ]
  },
  {
   "cell_type": "code",
   "execution_count": 83,
   "metadata": {},
   "outputs": [
    {
     "name": "stdout",
     "output_type": "stream",
     "text": [
      "\t\t\t***Searching Duplicate number in Dictionary***\n",
      "[3, 9, 12]\n"
     ]
    }
   ],
   "source": [
    "print(\"\\t\\t\\t***Searching Duplicate number in Dictionary***\")\n",
    "lst = [ 3, 6, 9, 12, 3, 30, 15, 9, 45, 36, 12, 12]\n",
    "dupItems = []\n",
    "uniqItems = {}\n",
    "for x in lst:\n",
    "   if x not in uniqItems:\n",
    "      uniqItems[x] = 1\n",
    "   else:\n",
    "      if uniqItems[x] == 1:\n",
    "         dupItems.append(x)\n",
    "      uniqItems[x] += 1\n",
    "print(dupItems)"
   ]
  },
  {
   "cell_type": "code",
   "execution_count": 84,
   "metadata": {},
   "outputs": [
    {
     "name": "stdout",
     "output_type": "stream",
     "text": [
      "\t\t\tChecking Given key Exits in Dictionary***\n",
      "Key is present in the dictionary\n",
      "Key is not present in the dictionary\n"
     ]
    }
   ],
   "source": [
    "print(\"\\t\\t\\tChecking Given key Exits in Dictionary***\")\n",
    "d = {1: 10, 2: 20, 3: 30, 4: 40, 5: 50, 6: 60}\n",
    "def is_key_present(x):\n",
    "  if x in d:\n",
    "      print('Key is present in the dictionary')\n",
    "  else:\n",
    "      print('Key is not present in the dictionary')\n",
    "is_key_present(5)\n",
    "is_key_present(9)"
   ]
  },
  {
   "cell_type": "code",
   "execution_count": null,
   "metadata": {},
   "outputs": [],
   "source": []
  }
 ],
 "metadata": {
  "kernelspec": {
   "display_name": "Python 3",
   "language": "python",
   "name": "python3"
  },
  "language_info": {
   "codemirror_mode": {
    "name": "ipython",
    "version": 3
   },
   "file_extension": ".py",
   "mimetype": "text/x-python",
   "name": "python",
   "nbconvert_exporter": "python",
   "pygments_lexer": "ipython3",
   "version": "3.7.4"
  }
 },
 "nbformat": 4,
 "nbformat_minor": 2
}
