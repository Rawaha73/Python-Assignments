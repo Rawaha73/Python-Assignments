{
 "cells": [
  {
   "cell_type": "code",
   "execution_count": 17,
   "metadata": {},
   "outputs": [
    {
     "name": "stdout",
     "output_type": "stream",
     "text": [
      "Name: Rawaha Bin Iqbal\n",
      "Assignment Number 5\n",
      "Course: Python\n"
     ]
    }
   ],
   "source": [
    "print (\"Name: Rawaha Bin Iqbal\")\n",
    "print (\"Assignment Number 5\")\n",
    "print (\"Course: Python\")"
   ]
  },
  {
   "cell_type": "code",
   "execution_count": 14,
   "metadata": {},
   "outputs": [
    {
     "name": "stdout",
     "output_type": "stream",
     "text": [
      "---------------   Factorial   -----------------\n",
      "Input number: 5\n",
      "120\n"
     ]
    }
   ],
   "source": [
    "def factorial(n):\n",
    "    fact = 1\n",
    "    for num in range(2, n + 1):\n",
    "        fact *= num\n",
    "    return fact\n",
    "print(\"---------------   Factorial   -----------------\")\n",
    "fact=int(input(\"Input number: \"))\n",
    "n = factorial(fact)\n",
    "print (n)"
   ]
  },
  {
   "cell_type": "code",
   "execution_count": 15,
   "metadata": {},
   "outputs": [
    {
     "name": "stdout",
     "output_type": "stream",
     "text": [
      "-----//****Calculating Uppercase Lowercase and Original length Of string****\\-----\n",
      "Enter string value: What a wonderful day\n",
      "String Length :  20\n",
      "Uppercase - 1\n",
      "Lowercase - 16\n",
      "Spaces - 3\n"
     ]
    }
   ],
   "source": [
    "print(\"-----//****Calculating Uppercase Lowercase and Original length Of string****\\\\-----\")\n",
    "string =input(\"Enter string value: \")\n",
    "\n",
    "def func(string):\n",
    "    char ='' \n",
    "    up = 0\n",
    "    low= 0\n",
    "    space= 0\n",
    "    for a in string:\n",
    "        if a.isupper() == True:\n",
    "            up+= 1\n",
    "            char+=(a.lower())\n",
    "        elif (a.islower()) == True:\n",
    "            low+= 1\n",
    "            char+=(a.upper())\n",
    "        elif (a.isspace()) == True:\n",
    "            space+= 1\n",
    "            char+= a\n",
    "    print(\"String Length : \",len(string)) \n",
    "    print(\"Uppercase -\", up) \n",
    "    print(\"Lowercase -\", low) \n",
    "    print(\"Spaces -\", space)\n",
    "func(string)"
   ]
  },
  {
   "cell_type": "code",
   "execution_count": 18,
   "metadata": {},
   "outputs": [
    {
     "name": "stdout",
     "output_type": "stream",
     "text": [
      "\t\t\t*****Printing Even Number from given list*****\n",
      "Given list: [10, 21, 4, 45, 66, 93]\n",
      "\n",
      "Even numbers in the list:  [10, 4, 66]\n"
     ]
    }
   ],
   "source": [
    "print(\"\\t\\t\\t*****Printing Even Number from given list*****\")\n",
    "def even():\n",
    "    list1 = [10, 21, 4, 45, 66, 93]\n",
    "    print(\"Given list: \", list1, sep = '')\n",
    "    even_nos = [num for num in list1 if num % 2 == 0]   \n",
    "    print(\"\\nEven numbers in the list: \", even_nos)\n",
    "even()"
   ]
  },
  {
   "cell_type": "code",
   "execution_count": 10,
   "metadata": {},
   "outputs": [
    {
     "name": "stdout",
     "output_type": "stream",
     "text": [
      "\t\t\t*****Checking is it Palindrome*****\n",
      "Enter a word or phrase: madam\n",
      "True\n"
     ]
    }
   ],
   "source": [
    "print(\"\\t\\t\\t*****Checking is it Palindrome*****\")\n",
    "string = input(\"Enter a word or phrase: \")\n",
    "def isPalindrome(string):\n",
    "    left_pos = 0\n",
    "    right_pos = len(string) - 1\n",
    "    while right_pos >= left_pos:\n",
    "        if not string[left_pos] == string[right_pos]:\n",
    "            return False\n",
    "        left_pos += 1\n",
    "        right_pos -= 1\n",
    "    return True\n",
    "print(isPalindrome(string))"
   ]
  },
  {
   "cell_type": "code",
   "execution_count": 9,
   "metadata": {},
   "outputs": [
    {
     "name": "stdout",
     "output_type": "stream",
     "text": [
      "\t\t\t*****Checking is it Prime Number*****\n",
      "Enter a number: 5\n",
      "True\n"
     ]
    }
   ],
   "source": [
    "print(\"\\t\\t\\t*****Checking is it Prime Number*****\")\n",
    "num = int(input(\"Enter a number: \"))\n",
    "def test_prime(n):\n",
    "    if (n==1):\n",
    "        return False\n",
    "    elif (n==2):\n",
    "        return True;\n",
    "    else:\n",
    "        for x in range(2,n):\n",
    "            if(n % x==0):\n",
    "                return False\n",
    "        return True             \n",
    "print(test_prime(num))"
   ]
  },
  {
   "cell_type": "code",
   "execution_count": 8,
   "metadata": {},
   "outputs": [
    {
     "name": "stdout",
     "output_type": "stream",
     "text": [
      "Choose option\n",
      "1.Add\n",
      "2.View\n",
      "3.Remove\n",
      "4.Exit\n",
      "\n",
      "Select: 1\n",
      "Enter item: milk\n",
      "Succesfully Added\n",
      "New list\n",
      "-> milk\n",
      "Choose option\n",
      "1.Add\n",
      "2.View\n",
      "3.Remove\n",
      "4.Exit\n",
      "\n",
      "Select: 1\n",
      "Enter item: sugar\n",
      "Succesfully Added\n",
      "New list\n",
      "-> milk\n",
      "-> sugar\n",
      "Choose option\n",
      "1.Add\n",
      "2.View\n",
      "3.Remove\n",
      "4.Exit\n",
      "\n",
      "Select: 1\n",
      "Enter item: oil\n",
      "Succesfully Added\n",
      "New list\n",
      "-> milk\n",
      "-> sugar\n",
      "-> oil\n",
      "Choose option\n",
      "1.Add\n",
      "2.View\n",
      "3.Remove\n",
      "4.Exit\n",
      "\n",
      "Select: 2\n",
      "\n",
      "Following are the items in the list\n",
      "-> milk\n",
      "-> sugar\n",
      "-> oil\n",
      "Choose option\n",
      "1.Add\n",
      "2.View\n",
      "3.Remove\n",
      "4.Exit\n",
      "\n",
      "Select: 3\n",
      "Enter item you want to remove: milk\n",
      "Succesfully Removed\n",
      " Remaining items in the list\n",
      "-> sugar\n",
      "-> oil\n",
      "Choose option\n",
      "1.Add\n",
      "2.View\n",
      "3.Remove\n",
      "4.Exit\n",
      "\n",
      "Select: 4\n",
      "Thank you!!\n"
     ]
    }
   ],
   "source": [
    "def func():\n",
    "    lst = []\n",
    "    string = ''\n",
    "    while True:\n",
    "        choose = int(input(\"Choose option\\n1.Add\\n2.View\\n3.Remove\\n4.Exit\\n\\nSelect: \"))\n",
    "        if choose == 1:        \n",
    "            string = input(\"Enter item: \")\n",
    "            lst.append(string)\n",
    "            print(\"Succesfully Added\\nNew list\")\n",
    "            for i in lst:\n",
    "                print (\"->\",i)\n",
    "        elif choose == 2:\n",
    "            print(\"\\nFollowing are the items in the list\")\n",
    "            for i in lst:\n",
    "                print(\"->\", i)\n",
    "        elif choose == 3:\n",
    "            string = input(\"Enter item you want to remove: \")\n",
    "            lst.remove(string)\n",
    "            print(\"Succesfully Removed\\n Remaining items in the list\")\n",
    "            for i in lst:\n",
    "                print(\"->\",i)\n",
    "        elif choose == 4:\n",
    "            print(\"Thank you!!\")\n",
    "            break;\n",
    "        else:\n",
    "            print(\"Invalid Command, Input again\")\n",
    "\n",
    "while True:\n",
    "    func()\n",
    "    break;"
   ]
  },
  {
   "cell_type": "code",
   "execution_count": null,
   "metadata": {},
   "outputs": [],
   "source": []
  }
 ],
 "metadata": {
  "kernelspec": {
   "display_name": "Python 3",
   "language": "python",
   "name": "python3"
  },
  "language_info": {
   "codemirror_mode": {
    "name": "ipython",
    "version": 3
   },
   "file_extension": ".py",
   "mimetype": "text/x-python",
   "name": "python",
   "nbconvert_exporter": "python",
   "pygments_lexer": "ipython3",
   "version": "3.7.4"
  }
 },
 "nbformat": 4,
 "nbformat_minor": 2
}
