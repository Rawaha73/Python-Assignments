{
 "cells": [
  {
   "cell_type": "code",
   "execution_count": 20,
   "metadata": {},
   "outputs": [
    {
     "name": "stdout",
     "output_type": "stream",
     "text": [
      "Name: Rawaha Bin Iqbal\n",
      "Assignment Number 4\n",
      "Course: Python\n"
     ]
    }
   ],
   "source": [
    "print (\"Name: Rawaha Bin Iqbal\")\n",
    "print (\"Assignment Number 4\")\n",
    "print (\"Course: Python\")"
   ]
  },
  {
   "cell_type": "code",
   "execution_count": 14,
   "metadata": {
    "scrolled": true
   },
   "outputs": [
    {
     "name": "stdout",
     "output_type": "stream",
     "text": [
      "\t\t\t***Updating key value and Deleting***\n",
      "Person information according to dic:  {'first_name': 'Talha', 'last_name': 'Ahmed', 'age': '20', 'city': 'lahore'}\n",
      "first name:  Talha\n",
      "Last name:  Ahmed\n",
      "Age:  20\n",
      "City:  Lahore\n",
      "Updating new key Qualification to exiting information\n",
      "Plese Input Qualification:high academic level\n",
      "following is the new updated person information\n",
      "first name:  Talha\n",
      "Last name:  Ahmed\n",
      "Age:  20\n",
      "City:  Lahore\n",
      "Qulification:  High Academic Level\n",
      "Do you want to remove qualification if yes type 'Y' no type 'N' y\n",
      "After Removing qualification from information\n",
      "first name:  Talha\n",
      "Last name:  Ahmed\n",
      "Age:  20\n",
      "City:  Lahore\n",
      "Thank you!!\n"
     ]
    }
   ],
   "source": [
    "print(\"\\t\\t\\t***Updating key value and Deleting***\")\n",
    "person ={\n",
    "    'first_name':'Talha',\n",
    "    'last_name':'Ahmed',\n",
    "    'age':'20',\n",
    "    'city':'lahore'}\n",
    "print(\"Person information according to dic: \",person)\n",
    "print(\"first name: \",person['first_name'].title())\n",
    "print(\"Last name: \",person['last_name'].title())\n",
    "print(\"Age: \",person['age'].title())\n",
    "print(\"City: \",person['city'].title())\n",
    "print(\"Updating new key Qualification to exiting information\")\n",
    "person['qualification']=input(\"Plese Input Qualification:\")\n",
    "print(\"following is the new updated person information\")\n",
    "print(\"first name: \",person['first_name'].title())\n",
    "print(\"Last name: \",person['last_name'].title())\n",
    "print(\"Age: \",person['age'].title())\n",
    "print(\"City: \",person['city'].title())\n",
    "print(\"Qulification: \",person['qualification'].title())\n",
    "loop = True\n",
    "while loop:\n",
    "    rem = str(input(\"Do you want to remove qualification if yes type 'Y' no type 'N' \"))\n",
    "    if rem == 'Y' or rem =='y':\n",
    "        del person['qualification']\n",
    "        print(\"After Removing qualification from information\")\n",
    "        print(\"first name: \",person['first_name'].title())\n",
    "        print(\"Last name: \",person['last_name'].title())\n",
    "        print(\"Age: \",person['age'].title())\n",
    "        print(\"City: \",person['city'].title())\n",
    "        print(\"Thank you!!\")\n",
    "        break\n",
    "    elif rem == 'N' or rem =='n':\n",
    "        print('No changes To information Thank you! bye.')\n",
    "        break\n",
    "    else:\n",
    "        print('Inappropriate value')\n",
    "        loop = loop + 1\n",
    "        print(\" Try Again \")"
   ]
  },
  {
   "cell_type": "code",
   "execution_count": 15,
   "metadata": {
    "scrolled": true
   },
   "outputs": [
    {
     "name": "stdout",
     "output_type": "stream",
     "text": [
      "\t\t\t*** Printing information of cities***\n",
      "\n",
      "Tokyo is in Japan.\n",
      "  It has a population of about over 13.4 millions.\n",
      "  The Tokyo Was Formerly Known As “Edo” In The 20Th Century.fact\n",
      "\n",
      "London is in England.\n",
      "  It has a population of about 8.9 million.\n",
      "  The The Romans Were The First To Make London Their Homefact\n",
      "\n",
      "Paris is in France.\n",
      "  It has a population of about 2.141 million.\n",
      "  The It’S Believed That Paris Only Has One Stop Sign In The Entire City.fact\n"
     ]
    }
   ],
   "source": [
    "print(\"\\t\\t\\t*** Printing information of cities***\")\n",
    "cities = {\n",
    "    'Tokyo': {\n",
    "        'country': 'Japan',\n",
    "        'population': 'over 13.4 millions',\n",
    "        'fact':'Tokyo was formerly known as “Edo” in the 20th century.',\n",
    "        },\n",
    "    \n",
    "    'London': {\n",
    "        'country': 'England',\n",
    "        'population': '8.9 million',\n",
    "        'fact': 'The Romans were the first to make London their home',\n",
    "        },\n",
    "    \n",
    "    'Paris': {\n",
    "        'country': 'France',\n",
    "        'population': '2.141 million',\n",
    "        'fact': 'It’s believed that Paris only has one stop sign in the entire city.',\n",
    "        }\n",
    "    }\n",
    "for city, city_info in cities.items():\n",
    "    country = city_info['country'].title()\n",
    "    population = city_info['population']\n",
    "    facts = city_info['fact'].title()\n",
    "\n",
    "    print(\"\\n\" + city.title() + \" is in \" + country + \".\")\n",
    "    print(\"  It has a population of about \" + str(population) + \".\")\n",
    "    print(\"  The \" + facts + \"fact\")"
   ]
  },
  {
   "cell_type": "code",
   "execution_count": 8,
   "metadata": {
    "scrolled": true
   },
   "outputs": [
    {
     "name": "stdout",
     "output_type": "stream",
     "text": [
      "\t\t***Movie Theater***\n",
      "User Age: 1\n",
      "Ticked is Free.\n"
     ]
    }
   ],
   "source": [
    "print(\"\\t\\t***Movie Theater***\")\n",
    "movie = True\n",
    "while  movie:\n",
    "    user_age =int(input(\"User Age: \")) \n",
    "    if user_age>0 and user_age<3:\n",
    "        print(\"Ticked is Free.\")\n",
    "        break\n",
    "        \n",
    "    elif user_age>=3 and user_age<12:\n",
    "        price1 = 10\n",
    "        print(\"Ticked price is $ \"+str(price1)+\".\")\n",
    "        break\n",
    "        \n",
    "    elif user_age>=12:\n",
    "        price2 = 15\n",
    "        print(\"Ticked price is $ \"+str(price2)+\".\")\n",
    "        break\n",
    "        \n",
    "    else:\n",
    "        print(\"Inappropriate Comamnd\")\n",
    "        break"
   ]
  },
  {
   "cell_type": "code",
   "execution_count": 5,
   "metadata": {},
   "outputs": [
    {
     "name": "stdout",
     "output_type": "stream",
     "text": [
      "\t\t***Writing Function that accept one parameter***\n",
      "\n",
      "One of my Favorite book is Alice in Wonderland\n"
     ]
    }
   ],
   "source": [
    "print(\"\\t\\t***Writing Function that accept one parameter***\\n\")\n",
    "def favorite_book(title):\n",
    "    print(\"One of my Favorite book is \"+title)\n",
    "favorite_book(\"Alice in Wonderland\")"
   ]
  },
  {
   "cell_type": "code",
   "execution_count": 19,
   "metadata": {},
   "outputs": [
    {
     "name": "stdout",
     "output_type": "stream",
     "text": [
      "\t\t\t***Guessing Number game***\n",
      "if you gussed less than 3 times you won\n",
      "Guess a number between 1 and 30\n",
      "15\n",
      "Try Greater\n",
      "Guess a number between 1 and 30\n",
      "24\n",
      "Try Greater\n",
      "Guess a number between 1 and 30\n",
      "29\n",
      "Try Smaller\n",
      "You Loss! The Number is 25.\n",
      "Better Luck Next Time, Thank you\n"
     ]
    }
   ],
   "source": [
    "import random\n",
    "print(\"\\t\\t\\t***Guessing Number game***\")\n",
    "guess = True\n",
    "num = random.randint(1, 30)\n",
    "print('if you gussed less than 3 times you won')\n",
    "while guess <=3:\n",
    "    print('Guess a number between 1 and 30')\n",
    "    n = input()\n",
    "    i = int(n)\n",
    "    guess = guess + 1\n",
    "    if i == num:\n",
    "        print('You won!!!')\n",
    "        break\n",
    "    elif i < num:\n",
    "               print('Try Greater')\n",
    "    elif i > num:\n",
    "               print('Try Smaller')\n",
    "print(\"You Loss! The Number is \"+str(num)+\".\\nBetter Luck Next Time, Thank you\")"
   ]
  },
  {
   "cell_type": "code",
   "execution_count": null,
   "metadata": {},
   "outputs": [],
   "source": []
  }
 ],
 "metadata": {
  "kernelspec": {
   "display_name": "Python 3",
   "language": "python",
   "name": "python3"
  },
  "language_info": {
   "codemirror_mode": {
    "name": "ipython",
    "version": 3
   },
   "file_extension": ".py",
   "mimetype": "text/x-python",
   "name": "python",
   "nbconvert_exporter": "python",
   "pygments_lexer": "ipython3",
   "version": "3.7.4"
  }
 },
 "nbformat": 4,
 "nbformat_minor": 2
}
