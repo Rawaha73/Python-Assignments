{
 "cells": [
  {
   "cell_type": "code",
   "execution_count": 8,
   "metadata": {},
   "outputs": [
    {
     "name": "stdout",
     "output_type": "stream",
     "text": [
      "Name: Rawaha Bin Iqbal\n",
      "Assignment Number 1\n",
      "Course: Python\n"
     ]
    }
   ],
   "source": [
    "print (\"Name: Rawaha Bin Iqbal\")\n",
    "print (\"Assignment Number 1\")\n",
    "print (\"Course: Python\")"
   ]
  },
  {
   "cell_type": "code",
   "execution_count": 2,
   "metadata": {
    "scrolled": true
   },
   "outputs": [
    {
     "name": "stdout",
     "output_type": "stream",
     "text": [
      "\tTwinkle, twinkle, little star,\n",
      "\t\tHow I wonder what you are!\n",
      "\t\t\tUp above the world so high,\n",
      "\t\t\tLike a Diamond in the sky.\n",
      "\tTwinkle, twinkle, little star,\n",
      "\t\tHow I wonder what you are\n"
     ]
    }
   ],
   "source": [
    "print(\"\\tTwinkle, twinkle, little star,\")\n",
    "print(\"\\t\\tHow I wonder what you are!\")\n",
    "print(\"\\t\\t\\tUp above the world so high,\")\n",
    "print(\"\\t\\t\\tLike a Diamond in the sky.\")\n",
    "print(\"\\tTwinkle, twinkle, little star,\")\n",
    "print(\"\\t\\tHow I wonder what you are\")\n"
   ]
  },
  {
   "cell_type": "code",
   "execution_count": 3,
   "metadata": {},
   "outputs": [
    {
     "name": "stdout",
     "output_type": "stream",
     "text": [
      "\t\t\t :Checking Python Version:\n",
      "Version Of Python is:  3\n"
     ]
    }
   ],
   "source": [
    "print(\"\\t\\t\\t :Checking Python Version:\")\n",
    "import sys\n",
    "print(\"Version Of Python is: \", sys.version_info[0])"
   ]
  },
  {
   "cell_type": "code",
   "execution_count": 4,
   "metadata": {},
   "outputs": [
    {
     "name": "stdout",
     "output_type": "stream",
     "text": [
      "\t\t\t:Checking Current Date Time OF PC:\n",
      "2019-11-04 12:16:40.212160\n"
     ]
    }
   ],
   "source": [
    "print(\"\\t\\t\\t:Checking Current Date Time OF PC:\")\n",
    "import datetime\n",
    "datetime_pc = datetime.datetime.now()\n",
    "print(datetime_pc)"
   ]
  },
  {
   "cell_type": "code",
   "execution_count": 9,
   "metadata": {},
   "outputs": [
    {
     "name": "stdout",
     "output_type": "stream",
     "text": [
      "\t\t\t:Calculating Radius Of Circle:\n",
      "Enter radius Of circle 5\n",
      "Area of Circle is:  78.5\n"
     ]
    }
   ],
   "source": [
    "print(\"\\t\\t\\t:Calculating Radius Of Circle:\")\n",
    "radius_of_circle = int(input(\"Enter radius Of circle \"))\n",
    "Pi = 3.14\n",
    "Area = Pi*(radius_of_circle**2)\n",
    "print (\"Area of Circle is: \",Area)"
   ]
  },
  {
   "cell_type": "code",
   "execution_count": 10,
   "metadata": {},
   "outputs": [
    {
     "name": "stdout",
     "output_type": "stream",
     "text": [
      "\t\t\t Printing Name in Reverse Order\n",
      "Enter your First name : Ahmed\n",
      "Enter your Second name: Shahzad\n",
      "Nice To meet you Shahzad Ahmed\n"
     ]
    }
   ],
   "source": [
    "print(\"\\t\\t\\t Printing Name in Reverse Order\")\n",
    "firstn = input(\"Enter your First name : \")\n",
    "lastn  = input (\"Enter your Second name: \")\n",
    "print (\"Nice To meet you \"+lastn+\" \"+firstn)"
   ]
  },
  {
   "cell_type": "code",
   "execution_count": 7,
   "metadata": {},
   "outputs": [
    {
     "name": "stdout",
     "output_type": "stream",
     "text": [
      "\t\t\t:Addition Program:\n",
      "Enter First Number: 5\n",
      "Enter Second Number: 6\n",
      "Answer of two input Numbers is :  11\n"
     ]
    }
   ],
   "source": [
    "print(\"\\t\\t\\t:Addition Program:\")\n",
    "n1 = int (input(\"Enter First Number: \"))\n",
    "n2 = int(input(\"Enter Second Number: \"))\n",
    "sum = int(n2+n1)\n",
    "print(\"Answer of two input Numbers is : \",sum)"
   ]
  },
  {
   "cell_type": "code",
   "execution_count": null,
   "metadata": {},
   "outputs": [],
   "source": []
  }
 ],
 "metadata": {
  "kernelspec": {
   "display_name": "Python 3",
   "language": "python",
   "name": "python3"
  },
  "language_info": {
   "codemirror_mode": {
    "name": "ipython",
    "version": 3
   },
   "file_extension": ".py",
   "mimetype": "text/x-python",
   "name": "python",
   "nbconvert_exporter": "python",
   "pygments_lexer": "ipython3",
   "version": "3.7.4"
  }
 },
 "nbformat": 4,
 "nbformat_minor": 2
}
