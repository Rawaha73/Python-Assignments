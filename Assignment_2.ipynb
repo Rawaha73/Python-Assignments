{
 "cells": [
  {
   "cell_type": "code",
   "execution_count": 1,
   "metadata": {},
   "outputs": [
    {
     "name": "stdout",
     "output_type": "stream",
     "text": [
      "Name: Rawaha Bin Iqbal\n",
      "Assignment Number 2\n",
      "Course: Python\n"
     ]
    }
   ],
   "source": [
    "print (\"Name: Rawaha Bin Iqbal\")\n",
    "print (\"Assignment Number 2\")\n",
    "print (\"Course: Python\")"
   ]
  },
  {
   "cell_type": "code",
   "execution_count": 2,
   "metadata": {},
   "outputs": [
    {
     "name": "stdout",
     "output_type": "stream",
     "text": [
      "\t\t\t***Marksheet***\n",
      "Enter Mathematics Marks 56\n",
      "Enter English Marks 85\n",
      "Enter Computer-Science Marks 95\n",
      "Enter Pakistan Studies Marks 94\n",
      "Enter Islamiat Marks 45\n",
      "Your Total Marks are 375\n",
      "Your Percentage 75.0\n",
      "Congratulations! you have secured Grade A+\n"
     ]
    }
   ],
   "source": [
    "print (\"\\t\\t\\t***Marksheet***\")\n",
    "s1 = int(input(\"Enter Mathematics Marks \"))\n",
    "s2 = int(input(\"Enter English Marks \"))\n",
    "s3 = int(input(\"Enter Computer-Science Marks \"))\n",
    "s4 = int(input(\"Enter Pakistan Studies Marks \"))\n",
    "s5= int(input(\"Enter Islamiat Marks \"))\n",
    "total_m = (s1+s2+s3+s4+s5)\n",
    "per = (total_m/500)*100\n",
    "print(\"Your Total Marks are \"+str(total_m))\n",
    "print(\"Your Percentage \"+str(per))\n",
    "if per>=90 and per<=100:\n",
    "    print(\"Congratulations! you have secured Grade A+\")\n",
    "elif per>=80 and per <90:\n",
    "    print(\"Congratulations! you have secured Grade A+\")\n",
    "elif per>=70 and per<80:\n",
    "    print(\"Congratulations! you have secured Grade A+\")\n",
    "elif per>=60 and per<=70:\n",
    "    print(\"Congratulations! you have secured Grade A+\")\n",
    "else: \n",
    "    print(\"You are Fail are in Exam\")"
   ]
  },
  {
   "cell_type": "code",
   "execution_count": 3,
   "metadata": {},
   "outputs": [
    {
     "name": "stdout",
     "output_type": "stream",
     "text": [
      "\t\t\t***Checking Even And Odd Number***\n",
      "Enter Your Number To Identitfy Even or Odd\n",
      "5\n",
      "Given Number 5 is Odd \n"
     ]
    }
   ],
   "source": [
    "print(\"\\t\\t\\t***Checking Even And Odd Number***\")\n",
    "num = int(input(\"Enter Your Number To Identitfy Even or Odd\\n\"))\n",
    "if (num %2)==0:\n",
    "    print(\"Given Number \"+str(num)+\"is  Even \")\n",
    "else:\n",
    "    print(\"Given Number \"+str(num)+\" is Odd \")"
   ]
  },
  {
   "cell_type": "code",
   "execution_count": 4,
   "metadata": {},
   "outputs": [
    {
     "name": "stdout",
     "output_type": "stream",
     "text": [
      "\t\t\t Program To print Length Of list\n",
      "The lenght of list is:  5\n"
     ]
    }
   ],
   "source": [
    "print(\"\\t\\t\\t Program To print Length Of list\")\n",
    "n = len([50,60,90,100,900])\n",
    "print(\"The lenght of list is: \",n)"
   ]
  },
  {
   "cell_type": "code",
   "execution_count": 5,
   "metadata": {},
   "outputs": [
    {
     "name": "stdout",
     "output_type": "stream",
     "text": [
      "\t\t\t***Sum of Numeric Item In List***\n",
      "Answer 300\n"
     ]
    }
   ],
   "source": [
    "print (\"\\t\\t\\t***Sum of Numeric Item In List***\")\n",
    "n = [10,40,90,70,90]\n",
    "if len(n)<=4: \n",
    "    ad= n[0]+n[1]+n[2]+n[3]\n",
    "    print(\"Answer \"+str(ad))\n",
    "else:\n",
    "    add= sum(n)\n",
    "    print(\"Answer \"+str(add))"
   ]
  },
  {
   "cell_type": "code",
   "execution_count": 6,
   "metadata": {},
   "outputs": [
    {
     "name": "stdout",
     "output_type": "stream",
     "text": [
      "\t\t\t***Printing Maximum Number***\n",
      "Largest number of list  500\n"
     ]
    }
   ],
   "source": [
    "print(\"\\t\\t\\t***Printing Maximum Number***\")\n",
    "n = [90,40,500,200,500]\n",
    "print(\"Largest number of list \", max(n))"
   ]
  },
  {
   "cell_type": "code",
   "execution_count": 10,
   "metadata": {},
   "outputs": [
    {
     "name": "stdout",
     "output_type": "stream",
     "text": [
      "\t\t\t***Printing Elements Less Than 5 In List***\n",
      "List of Element  [1, 1, 2, 3, 5, 8, 13, 34, 21, 55, 89]\n",
      "1\n",
      "1\n",
      "2\n",
      "3\n"
     ]
    }
   ],
   "source": [
    "print(\"\\t\\t\\t***Printing Elements Less Than 5 In List***\")\n",
    "a = [1,1,2,3,5,8,13,34,21,55,89]\n",
    "print (\"List of Elements \",a)\n",
    "for i in a:\n",
    "    if i < 5:\n",
    "        print(i)"
   ]
  },
  {
   "cell_type": "code",
   "execution_count": null,
   "metadata": {},
   "outputs": [],
   "source": []
  }
 ],
 "metadata": {
  "kernelspec": {
   "display_name": "Python 3",
   "language": "python",
   "name": "python3"
  },
  "language_info": {
   "codemirror_mode": {
    "name": "ipython",
    "version": 3
   },
   "file_extension": ".py",
   "mimetype": "text/x-python",
   "name": "python",
   "nbconvert_exporter": "python",
   "pygments_lexer": "ipython3",
   "version": "3.7.4"
  }
 },
 "nbformat": 4,
 "nbformat_minor": 2
}
