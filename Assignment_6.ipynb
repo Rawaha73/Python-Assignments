{
 "cells": [
  {
   "cell_type": "markdown",
   "metadata": {},
   "source": [
    "Question 1:\n",
    "\n",
    "Answer: \n",
    "        One of the most powerful and popular paradigms and Includes facilities for modular programming, and (in some sense) procedural programming. A program consists of a collection of cooperating objects rather than a list of instructions (actions). An object combines data structure and its related operations together.\n"
   ]
  },
  {
   "cell_type": "markdown",
   "metadata": {},
   "source": [
    "Question 2:\n",
    "\n",
    "Answer:\n",
    "\n",
    "1.Reduced cognitive load (have less to think about and more natural paradigm)\n",
    "\n",
    "2.Isolation of programmers (better team programming)\n",
    "\n",
    "3.Less propagation of errors more adaptable/flexible programs\n",
    "\n",
    "4.Faster development due to reuse of code"
   ]
  },
  {
   "cell_type": "markdown",
   "metadata": {},
   "source": [
    "Question 3:\n",
    "    \n",
    "Answer:\n",
    "    \n",
    "•\tA program that provides some functionality can be long and contains many statements\n",
    "\n",
    "•\tA method groups a sequence of statements and should provide a well-defined, easy-to-understand functionality\n",
    "\n",
    "•\tA method takes input, performs actions, and produces output\n",
    "\n",
    "•\tEach method is define within specific class where as function it self functionality\n",
    "\n",
    "•\tA class contains data declarations (static and instance variables) and method declarations (behaviors)"
   ]
  },
  {
   "cell_type": "markdown",
   "metadata": {},
   "source": [
    "Question 4:\n",
    "    \n",
    "Answer:\n",
    "    \n",
    "Class:\n",
    "        A group or category of things that have a set of attributes in common.\n",
    "    \n",
    "Object:\n",
    "        Objects are the basic run-time entities of an object-oriented system. They may represent a person, a place or any item that the program must handle.\n",
    "    \n",
    "Attribute:\n",
    "        Attributes are data stored inside a class or instance and represent the state or quality of the class or instance. In short, attributes store information about the instance.\n",
    "\n",
    "Behavior:\n",
    "        A class's behavior determines how an instance of that class operates.\n",
    "For example: How it will react if asked to do something by another class or object or if it’s internal state changes.Behavior is the only way objects can do anything to themselves or have anything done to them.\n"
   ]
  },
  {
   "cell_type": "code",
   "execution_count": null,
   "metadata": {},
   "outputs": [],
   "source": [
    "#class\n",
    "class car():\n",
    "    def _init_(car,company_name,car_name,car_model,car_color,car_engine_no,car_cc):\n",
    "        car.company_name = company_name;\n",
    "        car.car_name = car_name\n",
    "        car.car_model = car_model\n",
    "        car.car_color = color\n",
    "        car.car_engine_no = car_engine_no\n",
    "        car.car_cc = car_cc\n",
    "        \n",
    "    def car_model(car, new_model):\n",
    "        car.car_model = new_model\n",
    "    def car_color(car,newcolor):\n",
    "        car.car_color = new_color\n",
    "    def car_cc(car, new_cc):\n",
    "        car.car_cc = new_cc\n",
    "\n",
    "car('Toyotta','Corolla','2018','black','2FMGK5CC2BBD13558','1600')\n",
    "print(car.company_name)\n",
    "print(car.car_name)\n",
    "print(car.new_model)\n",
    "print(car.new_color)\n",
    "print(car.new_cc)\n",
    "print(car.car_engine_no)"
   ]
  },
  {
   "cell_type": "code",
   "execution_count": null,
   "metadata": {},
   "outputs": [],
   "source": []
  }
 ],
 "metadata": {
  "kernelspec": {
   "display_name": "Python 3",
   "language": "python",
   "name": "python3"
  },
  "language_info": {
   "codemirror_mode": {
    "name": "ipython",
    "version": 3
   },
   "file_extension": ".py",
   "mimetype": "text/x-python",
   "name": "python",
   "nbconvert_exporter": "python",
   "pygments_lexer": "ipython3",
   "version": "3.7.4"
  }
 },
 "nbformat": 4,
 "nbformat_minor": 2
}
